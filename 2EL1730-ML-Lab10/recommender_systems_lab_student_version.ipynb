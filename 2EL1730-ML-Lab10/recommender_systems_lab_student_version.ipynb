{
 "cells": [
  {
   "cell_type": "markdown",
   "id": "065fe2bd",
   "metadata": {},
   "source": [
    "# Recommender systems lab\n",
    "\n",
    "## Goals of this lab:\n",
    "\n",
    "* Hands-on experience with implementing some simple content-based and collaborative filtering algorithms using a publicly available dataset (movielens)\n",
    "* Comparison of different similarity metrics in the context of content-based recommendation\n",
    "* Implementation of a collaborative filtering recommender system using the SVD\n",
    "* Hands-on experience using numpy and pandas\n",
    "\n",
    "\n",
    "---\n",
    "\n",
    "\n",
    "\n",
    "\n",
    "\n",
    "---\n"
   ]
  },
  {
   "cell_type": "code",
   "execution_count": null,
   "id": "b031bc91",
   "metadata": {},
   "outputs": [],
   "source": [
    "import numpy as np\n",
    "import pandas as pd"
   ]
  },
  {
   "cell_type": "markdown",
   "id": "ccbcc473",
   "metadata": {},
   "source": [
    "## Downloading the data\n",
    "\n",
    "The dataset we will use is the small movielens dataset, available here\n",
    "\n",
    "https://grouplens.org/datasets/movielens/\n",
    "\n",
    "under the name\n",
    "\n",
    "Small: 100,000 ratings and 3,600 tag applications applied to 9,000 movies by 600 users. Last updated 9/2018.\n",
    "\n",
    "    README.html\n",
    "    ml-latest-small.zip (size: 1 MB)"
   ]
  },
  {
   "cell_type": "markdown",
   "id": "a17bd9e0",
   "metadata": {},
   "source": [
    "---\n",
    "\n",
    "\n",
    "---"
   ]
  },
  {
   "cell_type": "markdown",
   "id": "10cfe661",
   "metadata": {},
   "source": [
    "# Content-based Filtering\n",
    "\n",
    "The goal of this part of the lab is to create a content-based filtering recommender system that takes into account\n",
    "\n",
    "* the genres\n",
    "* the years\n",
    "\n",
    "of the movies as features.\n",
    "\n",
    "A key to any content-based filtering recommender system is a measure of similarity between feature vectors. We will create such systems using\n",
    "\n",
    "* the cosine similarity\n",
    "* the jaccard similarity\n",
    "* the euclidean simmilarity\n",
    "\n",
    "separately and recommend movies given some movie."
   ]
  },
  {
   "cell_type": "markdown",
   "id": "3f6f10a6",
   "metadata": {},
   "source": [
    "## Data importing and cleaning\n",
    "\n",
    "We need to import the data and create the dataframe containing the features."
   ]
  },
  {
   "cell_type": "code",
   "execution_count": null,
   "id": "2d24856a",
   "metadata": {},
   "outputs": [],
   "source": []
  },
  {
   "cell_type": "markdown",
   "id": "3f7b1202",
   "metadata": {},
   "source": [
    "---"
   ]
  },
  {
   "cell_type": "markdown",
   "id": "68790cc6",
   "metadata": {},
   "source": [
    "## Cosine similarity\n",
    "\n",
    "The cosine similarity is given by the cosine of the angle between two feature vectors."
   ]
  },
  {
   "cell_type": "markdown",
   "id": "abb88403",
   "metadata": {},
   "source": [
    "### Compute the cosine similarity from the features"
   ]
  },
  {
   "cell_type": "code",
   "execution_count": null,
   "id": "e6662951",
   "metadata": {
    "scrolled": true
   },
   "outputs": [],
   "source": []
  },
  {
   "cell_type": "markdown",
   "id": "95320de2",
   "metadata": {},
   "source": [
    "### Make some recommendations using the cosine similarity\n",
    "\n",
    "The movies Rent-A-Cop (1988) [movieId 3667] and Man, The (2005) [movieId 37477] come from different eras but have the same genres. What do you notice about the recommendations between these two movies?"
   ]
  },
  {
   "cell_type": "code",
   "execution_count": null,
   "id": "f232bacf",
   "metadata": {
    "scrolled": true
   },
   "outputs": [],
   "source": []
  },
  {
   "cell_type": "markdown",
   "id": "ac62c493",
   "metadata": {},
   "source": [
    "---"
   ]
  },
  {
   "cell_type": "markdown",
   "id": "1a243502",
   "metadata": {},
   "source": [
    "## Jaccard similarity\n",
    "\n",
    "Recall the jaccard similarity between two vectors $v_i$ and $v_j$ with binary components from the lecture as the ratio \n",
    "\n",
    "$$\\frac{|v_i\\cap v_j|}{|v_i\\cup v_j|}.$$\n",
    "\n",
    "We want to use the jaccard similarity computed between the features of two movies (in this case, genres and year) to construct our similarity matrix. Remember, the jaccard similarity is only defined for binary features vectors..."
   ]
  },
  {
   "cell_type": "markdown",
   "id": "0c26b1e6",
   "metadata": {},
   "source": [
    "### Compute the jaccard similarity from the features"
   ]
  },
  {
   "cell_type": "code",
   "execution_count": null,
   "id": "503f5bec",
   "metadata": {},
   "outputs": [],
   "source": []
  },
  {
   "cell_type": "markdown",
   "id": "4d516d39",
   "metadata": {},
   "source": [
    "### Make some recommendations using the jaccard similarity\n",
    "\n",
    "As before, contrast the recommendations given for some movies. Note that the jaccard similarity matrix does not need to be normalized (why?)."
   ]
  },
  {
   "cell_type": "code",
   "execution_count": null,
   "id": "a0d96d17",
   "metadata": {},
   "outputs": [],
   "source": []
  },
  {
   "cell_type": "markdown",
   "id": "cc9f17d5",
   "metadata": {},
   "source": [
    "---"
   ]
  },
  {
   "cell_type": "markdown",
   "id": "a96d1f16",
   "metadata": {},
   "source": [
    "## Euclidean similarity\n",
    "\n",
    "Finally, we will compute the euclidean distance between two feature vectors $v_i$ and $v_j$,\n",
    "\n",
    "$$d(i,j) = \\|v_i-v_j\\|_2,$$\n",
    "\n",
    "and use this value to construct a euclidean similarity matrix,\n",
    "\n",
    "$$s(i,j) = \\frac{1}{1+d(i,j)}.$$"
   ]
  },
  {
   "cell_type": "markdown",
   "id": "de7dfa49",
   "metadata": {},
   "source": [
    "### Compute the euclidean distance between the features"
   ]
  },
  {
   "cell_type": "code",
   "execution_count": null,
   "id": "58b77a2e",
   "metadata": {},
   "outputs": [],
   "source": []
  },
  {
   "cell_type": "markdown",
   "id": "4fb31365",
   "metadata": {},
   "source": [
    "### Compute the similarity matrix from the distances"
   ]
  },
  {
   "cell_type": "code",
   "execution_count": null,
   "id": "4716c717",
   "metadata": {},
   "outputs": [],
   "source": []
  },
  {
   "cell_type": "markdown",
   "id": "cf6059f6",
   "metadata": {},
   "source": [
    "### Make some recommendations using the euclidean similarity"
   ]
  },
  {
   "cell_type": "code",
   "execution_count": null,
   "id": "fc8f29ad",
   "metadata": {},
   "outputs": [],
   "source": []
  },
  {
   "cell_type": "markdown",
   "id": "39dbabdd",
   "metadata": {},
   "source": [
    "---\n",
    "\n",
    "\n",
    "\n",
    "\n",
    "---"
   ]
  },
  {
   "cell_type": "markdown",
   "id": "e7cff6e7",
   "metadata": {},
   "source": [
    "# Collaborative filtering using SVD\n",
    "\n",
    "The goal of this part of the lab is to create a collaborative filtering system using \n",
    "\n",
    "* the user ratings \n",
    "\n",
    "and matrix factorization, in particular\n",
    "\n",
    "* the top k singular value decomposition (SVD).\n",
    "\n",
    "After, we will generate recommendations of 10 movies for a given user, and compare to their favorite movies that they've seen. Be careful to exclude the movies the user has already seen (assume the user has rated every movie they've seen), and compare to the user's 10 favorite movies."
   ]
  },
  {
   "cell_type": "markdown",
   "id": "4075196c",
   "metadata": {},
   "source": [
    "## Data import and cleaning"
   ]
  },
  {
   "cell_type": "code",
   "execution_count": null,
   "id": "8595d53e",
   "metadata": {},
   "outputs": [],
   "source": []
  },
  {
   "cell_type": "markdown",
   "id": "a7394803",
   "metadata": {},
   "source": [
    "## Top k SVD\n",
    "\n",
    "To construct the matrix of predicted rankings, we are going to take the SVD of the user-movie rating matrix and keep only the top k components to make a rank-k approximation. We choose k=50 for now but experiment with different values and see the effect it has."
   ]
  },
  {
   "cell_type": "code",
   "execution_count": null,
   "id": "e914a792",
   "metadata": {},
   "outputs": [],
   "source": []
  },
  {
   "cell_type": "markdown",
   "id": "fad31726",
   "metadata": {},
   "source": [
    "## Making recommendations\n",
    "\n",
    "Using the SVD you can form a matrix of predicted rankings. We will use this to predict what are the highest rated movies that the user has not actually rated, and recommend those to the user. We also want to compare these movies to the user's 10 favorite movies."
   ]
  },
  {
   "cell_type": "code",
   "execution_count": null,
   "id": "329f417a",
   "metadata": {},
   "outputs": [],
   "source": []
  }
 ],
 "metadata": {
  "kernelspec": {
   "display_name": "Python 3 (ipykernel)",
   "language": "python",
   "name": "python3"
  },
  "language_info": {
   "codemirror_mode": {
    "name": "ipython",
    "version": 3
   },
   "file_extension": ".py",
   "mimetype": "text/x-python",
   "name": "python",
   "nbconvert_exporter": "python",
   "pygments_lexer": "ipython3",
   "version": "3.9.13"
  }
 },
 "nbformat": 4,
 "nbformat_minor": 5
}
