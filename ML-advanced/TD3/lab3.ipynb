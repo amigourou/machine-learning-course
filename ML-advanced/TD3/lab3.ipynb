{
 "cells": [
  {
   "cell_type": "markdown",
   "metadata": {},
   "source": [
    "# Lab 3: Stochastic Gradient Descent"
   ]
  },
  {
   "cell_type": "markdown",
   "metadata": {},
   "source": [
    "Welcome to the advanced Machine Learning Course.\n",
    "\n",
    "The objective of this lab session is to code a few regression algorithms and to apply them to synthetic and real datasets.\n",
    "\n",
    "Please put **\"ML - MDS - TD3\"** in the mail subject or I might lose your work (which means 0) and send it to pierre.houdouin@centralesupelec.fr\n",
    "\n",
    "Please label your notebook **\"L3_familyname1_familyname2.ipynb\"** or I might lose your work (which means 0).\n",
    "\n",
    "We begin with the standard imports:"
   ]
  },
  {
   "cell_type": "code",
   "execution_count": 1,
   "metadata": {},
   "outputs": [],
   "source": [
    "%matplotlib inline\n",
    "import matplotlib.pyplot as plt\n",
    "import seaborn as sns; sns.set()\n",
    "import numpy as np\n",
    "import pandas as pd\n",
    "from tqdm import tqdm"
   ]
  },
  {
   "cell_type": "markdown",
   "metadata": {},
   "source": [
    "We import the dataset that we are going to use, an indian dataset including in the last column information about the diabetes status of patients:"
   ]
  },
  {
   "cell_type": "code",
   "execution_count": 2,
   "metadata": {},
   "outputs": [],
   "source": [
    "from sklearn import model_selection\n",
    "\n",
    "data = pd.read_csv(\"w8a.csv\", sep=\";\", header=None)\n",
    "\n",
    "X = data.iloc[:,:-1].to_numpy()\n",
    "y = data.iloc[:,-1].to_numpy()\n",
    "y = ((y+2)/2).astype(int)\n",
    "X_train, X_test, y_train, y_test = model_selection.train_test_split(X, y, test_size=0.33, random_state=32)"
   ]
  },
  {
   "cell_type": "markdown",
   "metadata": {},
   "source": [
    "## Logistic Regression\n",
    "\n"
   ]
  },
  {
   "cell_type": "markdown",
   "metadata": {},
   "source": [
    "Today we'll be moving from linear regression to logistic regression, one of the simplest ways to deal with a classification problem. Instead of fitting a line, logistic regression models the probability that the outcome is 1 given the value of the predictor. In order to do this we need a function that transforms our predictor variable to a value between 0 and 1. Lots of functions can do that, but the logistic function is the most common choice:\n",
    "\n",
    "$$f(z) = \\frac{1}{1+\\exp{-z}}.$$\n",
    "\n",
    "To predict the class of our observations we'll have to minimize the corresponding loss function and as we are in a high-dimensional context we'll add an $l_2$ regularization to the model:\n",
    "\n",
    "$$L(\\textbf{w}) = \\sum_{i=1}^n log(1+\\exp(-y_i\\textbf{w}^Tx_i))+\\frac{\\lambda}{2} \\| \\textbf{w} \\|^2,$$\n",
    "\n",
    "where $x_i$ is the vector of features for the observation $i$ and $y_i \\in \\{-1, 1\\}$ is the class label.  \n"
   ]
  },
  {
   "cell_type": "markdown",
   "metadata": {},
   "source": [
    "We first use the `sklearn` implementation:"
   ]
  },
  {
   "cell_type": "code",
   "execution_count": 3,
   "metadata": {},
   "outputs": [
    {
     "name": "stdout",
     "output_type": "stream",
     "text": [
      "0.9716480153610753\n"
     ]
    },
    {
     "data": {
      "image/png": "[encoded data removed]",
      "text/plain": [
       "<Figure size 432x288 with 1 Axes>"
      ]
     },
     "metadata": {},
     "output_type": "display_data"
    }
   ],
   "source": [
    "print(np.mean(y_train == 0))\n",
    "plt.hist(y_train)\n",
    "plt.show()"
   ]
  },
  {
   "cell_type": "code",
   "execution_count": 4,
   "metadata": {},
   "outputs": [],
   "source": [
    "from sklearn.linear_model import LogisticRegression\n",
    "\n",
    "model = LogisticRegression(random_state=32, max_iter=1000)\n",
    "model.fit(X_train, y_train)\n",
    "\n",
    "# Make predictions on the test set\n",
    "y_pred = model.predict(X_test)"
   ]
  },
  {
   "cell_type": "markdown",
   "metadata": {},
   "source": [
    "and we compute the accuracy score to evaluate the model performance:"
   ]
  },
  {
   "cell_type": "code",
   "execution_count": 5,
   "metadata": {},
   "outputs": [
    {
     "name": "stdout",
     "output_type": "stream",
     "text": [
      "Accuracy: 0.9837\n"
     ]
    }
   ],
   "source": [
    "from sklearn.metrics import accuracy_score\n",
    "\n",
    "accuracy = accuracy_score(y_test, y_pred)\n",
    "print(f\"Accuracy: {accuracy:.4f}\")"
   ]
  },
  {
   "cell_type": "markdown",
   "metadata": {},
   "source": [
    "### Assignment\n",
    "\n",
    "Implement from scratch your own logistic regression model with stochastic gradient descent optimization. \n",
    "\n",
    "- Fill in the class\n",
    "\n",
    "- Display the evolution of the cost function along iterations. Do this for several strategies for the setting of the learning rate\n",
    "\n",
    "- Try the different acceleration strategies\n",
    "\n",
    "- Train the model with the training set and evaluate its performance in the test set"
   ]
  },
  {
   "cell_type": "code",
   "execution_count": 26,
   "metadata": {},
   "outputs": [],
   "source": [
    "from sklearn.utils import shuffle\n",
    "\n",
    "class StochasticLogisticRegression():\n",
    "    \n",
    "    \"\"\" Class for logistic regression:\n",
    "    \n",
    "    Attributes:                                                                                 \n",
    "    -----------                                                                              Default value\n",
    "    coef_         : 1-dimensional np.array, coefficients / weights                         | None                \n",
    "    lambd_        : float,                  regularization parameter                       | 0.1\n",
    "    lr_           : float,                  the learning rate                              | 0.01\n",
    "    bsize         : integer,                the size of the mini-batch >=1                 | 64\n",
    "    gamma         : float,                  gamma coefficient                              | 0.999\n",
    "    beta          : float,                  beta coefficient                               | 0.9\n",
    "    eps           : float,                  epsilon coefficient                            | 10-8\n",
    "    debias        : boolean,                indicates if we use the debiais correction     | False\n",
    "    coef_history_ : list,                   the list of all visited betas/ weights         | []\n",
    "    f_history_    : list ,                  the list of all evaluations in visited betas   | []\n",
    "    thresh        : float,                  decision threshold for classification          | 0.5\n",
    "    \"\"\"\n",
    "    \n",
    "    def __init__(self, lambd=0.1, lr=1e-2, batchsize=64, gamma=0.999, beta=0.9, eps=1e-8, debias=False,\n",
    "                 thresh=0.5):\n",
    "        self.coef_         = None # weights\n",
    "        self.lambd_        = lambd\n",
    "        self.lr_           = lr\n",
    "        self.bsize_        = batchsize\n",
    "        self.gamma_        = gamma\n",
    "        self.beta_         = beta\n",
    "        self.eps_          = eps\n",
    "        self.debias_       = debias\n",
    "        self.coef_history_ = []\n",
    "        self.f_history_    = []\n",
    "        self.thresh_       = thresh\n",
    "\n",
    "    def sigmoid(self, z):\n",
    "        return 1 / (1 + np.exp(-z))\n",
    "    \n",
    "    def loss(self, X, y):\n",
    "        y_proba = self.sigmoid(X.dot(self.coef_)).flatten()\n",
    "        loss = -np.mean((y*np.log(y_proba + self.eps_) + (1 - y) * np.log(1 - y_proba + self.eps_))) #+ np.linalg.norm(self.coef_, 2)\n",
    "        # print(np.linalg.norm(self.coef_, 2))\n",
    "        # print(np.log(z), np.log(1-z), z)\n",
    "        return loss\n",
    "        \n",
    "    def fit(self, X, y, lr=1e-2, bsize=None, max_iter=100, minibatch=False):\n",
    "        \n",
    "        \"\"\" Fit the data (X, y).\n",
    "    \n",
    "        Parameters:\n",
    "        -----------                                                                         Default value\n",
    "        X          : (num_samples, num_features) np.array, Design matrix                  | \n",
    "        y          : (num_sampes, ) np.array,              Output vector                  | \n",
    "        lr         : float,                                the learning rate              | 0.001\n",
    "        bsize      : integer,                              the size of the mini-batch >=1 | 64\n",
    "        max_iter   : integer,                              the number of epochs           | 100\n",
    "        mini_batch : bool,                                 method used                    | False\n",
    "        \"\"\"\n",
    "        n_samples, n_features = X.shape\n",
    "        self.coef_ = np.random.rand(n_features+1).reshape(-1, 1)\n",
    "        self.coef_[:, -1] = 0\n",
    "        m = np.zeros_like(self.coef_)\n",
    "        v = np.zeros_like(self.coef_)\n",
    "        t = 0\n",
    "        X_aug = np.concatenate([X, np.ones((X.shape[0], 1))], axis=1)\n",
    "\n",
    "        if not minibatch:\n",
    "            self.bsize_ = 1\n",
    "        elif bsize is not None:\n",
    "            self.bsize_ = bsize\n",
    "\n",
    "        pbar = tqdm(range(max_iter))\n",
    "        for epoch in pbar:\n",
    "            X_aug, y = shuffle(X_aug, y)\n",
    "            for i in range(0, n_samples, self.bsize_):\n",
    "                \n",
    "                X_batch = X_aug[i:i+self.bsize_, :]\n",
    "                y_batch = y[i:i+self.bsize_]\n",
    "                \n",
    "                y_proba = self.sigmoid(X_batch.dot(self.coef_))\n",
    "                grad = -np.mean(X_batch.T.dot(y_batch - y_proba), axis=1, keepdims=True) + self.lambd_ * self.coef_\n",
    "    \n",
    "                t += 1\n",
    "                m = self.beta_ * m + (1 - self.beta_) * grad\n",
    "                v = self.gamma_ * v + (1 - self.gamma_) * (grad ** 2)\n",
    "                \n",
    "                if self.debias_:\n",
    "                    m_hat = m / (1 - self.beta_ ** t)\n",
    "                    v_hat = v / (1 - self.gamma_ ** t)\n",
    "                else:\n",
    "                    m_hat, v_hat = m, v\n",
    "                \n",
    "                self.coef_ -= lr * m_hat / (np.sqrt(v_hat) + self.eps_)\n",
    "            \n",
    "            self.coef_history_.append(self.coef_.copy())\n",
    "            self.f_history_.append(self.loss(X_aug, y))\n",
    "            pbar.set_postfix({\"loss\": self.f_history_[-1]})\n",
    "\n",
    "\n",
    "    def predict(self, X):\n",
    "        \"\"\" Make binary predictions for data X.\n",
    "    \n",
    "        Parameters:\n",
    "        -----------\n",
    "        X: (num_samples, num_features) np.array, Design matrix\n",
    "        \n",
    "        Returns:\n",
    "        -----\n",
    "        y_pred: (num_samples, ) np.array, Predictions (0 or 1)\n",
    "        \"\"\"\n",
    "        X_aug = np.concatenate([X, np.ones((X.shape[0], 1))], axis=1)\n",
    "        probas = self.sigmoid(X_aug.dot(self.coef_))\n",
    "        return (probas >= self.thresh_).astype(int)\n",
    "    \n",
    "    def accuracy_evaluation(self,X,y,thresh=0.5,margin=0, vizualisation=False):\n",
    "        \"\"\" Compute detailed accuracy rates.\n",
    "    \n",
    "        Parameters:\n",
    "        -----------                                                              Default value\n",
    "        X                : (num_samples, num_features) np.array, Input data    | \n",
    "        y                : (num_samples, ) np.array, Labels of the input data  | \n",
    "        thresh           : Decision threshold                                  | 0.5\n",
    "        margin           : If the prediction is at a distance less than margin | 0\n",
    "                           to the treshold, returns undetermined label.        |\n",
    "        vizualisation    : Allow the user to vizualize in a board the results  | True\n",
    "            \n",
    "        Returns:\n",
    "        -----\n",
    "        good_prediction  : % of correct classifications\n",
    "        undetermined     : % of indetermined labels \n",
    "        wrong_prediction : % of wrong classifications\n",
    "        TP               : % of 1 labelled 1\n",
    "        UP               : % of 1 labelled undetermined\n",
    "        FN               : % of 1 labelled 0\n",
    "        TN               : % of 0 labelled 0\n",
    "        UN               : % of 0 labelled undetermined\n",
    "        FP               : % of 0 labelled 1\n",
    "        F1_score         : F1-score\n",
    "        \"\"\" \n",
    "        X_aug = np.concatenate([X, np.ones((X.shape[0], 1))], axis=1)\n",
    "        probas = self.sigmoid(X_aug.dot(self.coef_)).flatten()\n",
    "        \n",
    "        y_pred = np.zeros_like(y)\n",
    "        y_pred[probas > thresh + margin] = 1\n",
    "        y_pred[probas < thresh - margin] = 0\n",
    "        y_pred[(probas >= thresh - margin) & (probas <= thresh + margin)] = -1  # Undetermined\n",
    "\n",
    "        TP = np.sum((y == 1) & (y_pred == 1)) / np.sum(y == 1)\n",
    "        UP = np.sum((y == 1) & (y_pred == -1)) / np.sum(y == 1)\n",
    "        FN = np.sum((y == 1) & (y_pred == 0)) / np.sum(y == 1)\n",
    "        TN = np.sum((y == 0) & (y_pred == 0)) / np.sum(y == 0)\n",
    "        UN = np.sum((y == 0) & (y_pred == -1)) / np.sum(y == 0)\n",
    "        FP = np.sum((y == 0) & (y_pred == 1)) / np.sum(y == 0)\n",
    "\n",
    "        good_prediction = np.mean(y == y_pred)\n",
    "        undetermined = np.mean(y_pred == -1)\n",
    "        wrong_prediction = np.mean((y != y_pred) & (y_pred != -1))\n",
    "\n",
    "        precision = TP / (TP + FP) if (TP + FP) > 0 else 0\n",
    "        recall = TP / (TP + FN) if (TP + FN) > 0 else 0\n",
    "        F1_score = 2 * (precision * recall) / (precision + recall) if (precision + recall) > 0 else 0\n",
    "\n",
    "        if vizualisation:\n",
    "            print(f\"Good predictions: {good_prediction:.2%}\")\n",
    "            print(f\"Undetermined: {undetermined:.2%}\")\n",
    "            print(f\"Wrong predictions: {wrong_prediction:.2%}\")\n",
    "            print(f\"True Positives: {TP:.2%}\")\n",
    "            print(f\"Undetermined Positives: {UP:.2%}\")\n",
    "            print(f\"False Negatives: {FN:.2%}\")\n",
    "            print(f\"True Negatives: {TN:.2%}\")\n",
    "            print(f\"Undetermined Negatives: {UN:.2%}\")\n",
    "            print(f\"False Positives: {FP:.2%}\")\n",
    "            print(f\"F1-score: {F1_score:.4f}\")\n",
    "\n",
    "        return good_prediction, undetermined, wrong_prediction, TP, UP, FN, TN, UN, FP, F1_score\n",
    "\n",
    "    \n",
    "    def find_thresh(self, X, y, step=0.01,margin=0):\n",
    "        \"\"\"Find the decision threshsold that maximize the f1_score\n",
    "        \n",
    "        Parameters:\n",
    "        -----------                                                    Default value\n",
    "        X      : (num_samples, num_features) np.array, Input data    | \n",
    "        y      : (num_samples, ) np.array, Labels of the input data  | \n",
    "        step   : Decision threshold                                  | 0.5\n",
    "        margin : If the prediction is at a distance less than margin | 0\n",
    "                 to the treshold, returns undetermined label.        |\n",
    "        \"\"\"  \n",
    "        best_thresh = 0\n",
    "        best_f1 = 0\n",
    "        for thresh in np.arange(0, 1 + step, step):\n",
    "            _, _, _, _, _, _, _, _, _, f1_score = self.accuracy_evaluation(X, y, thresh, margin)\n",
    "            if f1_score > best_f1:\n",
    "                best_f1 = f1_score\n",
    "                best_thresh = thresh\n",
    "        self.thresh_ = best_thresh\n",
    "        return best_thresh, best_f1"
   ]
  },
  {
   "cell_type": "markdown",
   "metadata": {},
   "source": [
    "Apply to the data"
   ]
  },
  {
   "cell_type": "markdown",
   "metadata": {},
   "source": [
    "On essaie plusieurs entraînements avec différents coefficients de régularisation, on choisit celui qui minimise\n",
    "l'erreur sur le test set. On entraine sur 1000 itérations en batch gradient descent. On garde **lambda = 2**.\n",
    "On essaie ensuite plusieurs learning rates, on choisit le plus grand qui permet d'obtenir un gradient qui converge. On garde **lr = 0.01**."
   ]
  },
  {
   "cell_type": "markdown",
   "metadata": {},
   "source": [
    "## Optimal threshold"
   ]
  },
  {
   "cell_type": "code",
   "execution_count": 28,
   "metadata": {
    "scrolled": false
   },
   "outputs": [
    {
     "name": "stderr",
     "output_type": "stream",
     "text": [
      "100%|██████████| 100/100 [00:16<00:00,  6.23it/s, loss=0.126]\n"
     ]
    },
    {
     "name": "stdout",
     "output_type": "stream",
     "text": [
      "Accuracy: 0.9675\n"
     ]
    },
    {
     "data": {
      "text/plain": [
       "[<matplotlib.lines.Line2D at 0x21fcacfdde0>]"
      ]
     },
     "execution_count": 28,
     "metadata": {},
     "output_type": "execute_result"
    },
    {
     "data": {
      "image/png": "[encoded data removed]",
      "text/plain": [
       "<Figure size 432x288 with 1 Axes>"
      ]
     },
     "metadata": {},
     "output_type": "display_data"
    }
   ],
   "source": [
    "model = StochasticLogisticRegression(2, 0.001, 512)\n",
    "model.fit(X_train, y_train, max_iter=100, minibatch=True)\n",
    "\n",
    "\n",
    "# Make predictions on the test set\n",
    "y_pred = model.predict(X_test)\n",
    "\n",
    "# model.accuracy_evaluation(X_test, y_test)\n",
    "\n",
    "accuracy = accuracy_score(y_test, y_pred)\n",
    "print(f\"Accuracy: {accuracy:.4f}\")\n",
    "\n",
    "plt.plot(model.f_history_)"
   ]
  },
  {
   "cell_type": "markdown",
   "metadata": {},
   "source": [
    "## Training of the model"
   ]
  },
  {
   "cell_type": "code",
   "execution_count": 30,
   "metadata": {
    "scrolled": false
   },
   "outputs": [
    {
     "name": "stdout",
     "output_type": "stream",
     "text": [
      "Best threshold : 0.03\n",
      "Accuracy: 0.9675\n",
      "(0.3342672676330856, 0.0, 0.6657327323669143, 0.9082397003745318, 0.0, 0.09176029962546817, 0.31497104004029214, 0.0, 0.6850289599597079, 0.7004593964880377)\n"
     ]
    },
    {
     "data": {
      "text/plain": [
       "[<matplotlib.lines.Line2D at 0x21fcb7a6e30>]"
      ]
     },
     "execution_count": 30,
     "metadata": {},
     "output_type": "execute_result"
    },
    {
     "data": {
      "image/png": "[encoded data removed]",
      "text/plain": [
       "<Figure size 432x288 with 1 Axes>"
      ]
     },
     "metadata": {},
     "output_type": "display_data"
    }
   ],
   "source": [
    "best_th,_=model.find_thresh(X_test,y_test)\n",
    "\n",
    "print(\"Best threshold :\", best_th)\n",
    "\n",
    "accuracy = accuracy_score(y_test, y_pred)\n",
    "\n",
    "print(f\"Accuracy: {accuracy:.4f}\")\n",
    "\n",
    "print(model.accuracy_evaluation(X_test, y_test,best_th ))"
   ]
  },
  {
   "cell_type": "markdown",
   "metadata": {},
   "source": [
    "Implement only one acceleration method and compare the results"
   ]
  },
  {
   "cell_type": "markdown",
   "metadata": {},
   "source": [
    "## Study of the batchsize impact"
   ]
  },
  {
   "cell_type": "markdown",
   "metadata": {},
   "source": []
  },
  {
   "cell_type": "code",
   "execution_count": 53,
   "metadata": {},
   "outputs": [
    {
     "name": "stderr",
     "output_type": "stream",
     "text": [
      "100%|██████████| 100/100 [01:32<00:00,  1.09it/s, loss=0.502]\n"
     ]
    },
    {
     "name": "stdout",
     "output_type": "stream",
     "text": [
      "Best threshold: 0.37 for bs: 1\n",
      "Accuracy (sklearn): 0.9669874527957121 for bs: 1\n",
      "Accuracy: 37.77% for bs: 1\n",
      "F1-score: 0.7034436282919174\n"
     ]
    },
    {
     "name": "stderr",
     "output_type": "stream",
     "text": [
      "100%|██████████| 100/100 [00:11<00:00,  9.04it/s, loss=0.226]\n"
     ]
    },
    {
     "name": "stdout",
     "output_type": "stream",
     "text": [
      "Best threshold: 0.14 for bs: 16\n",
      "Accuracy (sklearn): 0.967474722865148 for bs: 16\n",
      "Accuracy: 36.61% for bs: 16\n",
      "F1-score: 0.7001148129276777\n"
     ]
    },
    {
     "name": "stderr",
     "output_type": "stream",
     "text": [
      "100%|██████████| 100/100 [00:14<00:00,  6.98it/s, loss=0.17]\n"
     ]
    },
    {
     "name": "stdout",
     "output_type": "stream",
     "text": [
      "Best threshold: 0.08 for bs: 32\n",
      "Accuracy (sklearn): 0.967474722865148 for bs: 32\n",
      "Accuracy: 37.04% for bs: 32\n",
      "F1-score: 0.7079028922993051\n"
     ]
    },
    {
     "name": "stderr",
     "output_type": "stream",
     "text": [
      "100%|██████████| 100/100 [00:14<00:00,  6.96it/s, loss=0.151]\n"
     ]
    },
    {
     "name": "stdout",
     "output_type": "stream",
     "text": [
      "Best threshold: 0.06 for bs: 64\n",
      "Accuracy (sklearn): 0.967474722865148 for bs: 64\n",
      "Accuracy: 31.91% for bs: 64\n",
      "F1-score: 0.7035592994965086\n"
     ]
    },
    {
     "name": "stderr",
     "output_type": "stream",
     "text": [
      "100%|██████████| 100/100 [00:10<00:00,  9.84it/s, loss=0.132]\n"
     ]
    },
    {
     "name": "stdout",
     "output_type": "stream",
     "text": [
      "Best threshold: 0.03 for bs: 128\n",
      "Accuracy (sklearn): 0.967474722865148 for bs: 128\n",
      "Accuracy: 29.03% for bs: 128\n",
      "F1-score: 0.7010648050894118\n"
     ]
    },
    {
     "name": "stderr",
     "output_type": "stream",
     "text": [
      "100%|██████████| 100/100 [00:09<00:00, 10.19it/s, loss=0.128]\n"
     ]
    },
    {
     "name": "stdout",
     "output_type": "stream",
     "text": [
      "Best threshold: 0.04 for bs: 256\n",
      "Accuracy (sklearn): 0.967474722865148 for bs: 256\n",
      "Accuracy: 43.58% for bs: 256\n",
      "F1-score: 0.7041520925590576\n"
     ]
    },
    {
     "name": "stderr",
     "output_type": "stream",
     "text": [
      "100%|██████████| 100/100 [00:15<00:00,  6.66it/s, loss=0.128]\n"
     ]
    },
    {
     "name": "stdout",
     "output_type": "stream",
     "text": [
      "Best threshold: 0.03 for bs: 512\n",
      "Accuracy (sklearn): 0.967474722865148 for bs: 512\n",
      "Accuracy: 22.32% for bs: 512\n",
      "F1-score: 0.686815448776938\n"
     ]
    },
    {
     "name": "stderr",
     "output_type": "stream",
     "text": [
      "100%|██████████| 100/100 [00:21<00:00,  4.76it/s, loss=0.128]\n"
     ]
    },
    {
     "name": "stdout",
     "output_type": "stream",
     "text": [
      "Best threshold: 0.03 for bs: 1024\n",
      "Accuracy (sklearn): 0.967474722865148 for bs: 1024\n",
      "Accuracy: 26.50% for bs: 1024\n",
      "F1-score: 0.6798207861103387\n"
     ]
    },
    {
     "name": "stderr",
     "output_type": "stream",
     "text": [
      "100%|██████████| 100/100 [00:35<00:00,  2.82it/s, loss=0.127]\n"
     ]
    },
    {
     "name": "stdout",
     "output_type": "stream",
     "text": [
      "Best threshold: 0.02 for bs: 2048\n",
      "Accuracy (sklearn): 0.967474722865148 for bs: 2048\n",
      "Accuracy: 8.14% for bs: 2048\n",
      "F1-score: 0.6731249080515649\n"
     ]
    },
    {
     "name": "stderr",
     "output_type": "stream",
     "text": [
      "100%|██████████| 100/100 [01:02<00:00,  1.60it/s, loss=0.128]\n"
     ]
    },
    {
     "name": "stdout",
     "output_type": "stream",
     "text": [
      "Best threshold: 0.03 for bs: 4096\n",
      "Accuracy (sklearn): 0.967474722865148 for bs: 4096\n",
      "Accuracy: 44.68% for bs: 4096\n",
      "F1-score: 0.6742315256746709\n"
     ]
    }
   ],
   "source": [
    "models_1 = {}\n",
    "for bs in [1, 16, 32,64,128,256,512,1024, 2048, 4096]:\n",
    "    model = StochasticLogisticRegression(2, 0.001, bs)\n",
    "    model.fit(X_train, y_train, max_iter=100, minibatch=True)\n",
    "    # Make predictions on the test set\n",
    "    y_pred = model.predict(X_test)\n",
    "\n",
    "    best_th,_=model.find_thresh(X_test,y_test)\n",
    "    print(f\"Best threshold: {best_th} for bs: {bs}\")\n",
    "\n",
    "    accuracy = accuracy_score(y_test, y_pred)\n",
    "    print(f\"Accuracy (sklearn): {accuracy} for bs: {bs}\")\n",
    "\n",
    "    a = model.accuracy_evaluation(X_test, y_test,best_th )\n",
    "    print(f\"Accuracy: {a[0]:.2%} for bs: {bs}\")\n",
    "    print(f\"F1-score: {a[-1]}\")\n",
    "\n",
    "    models_1[str(bs)]= {\n",
    "        \"accuracy\":a[0],\n",
    "        \"sklearn_accuracy\": accuracy,\n",
    "        \"loss\": model.f_history_,\n",
    "        \"f1\": a[-1]\n",
    "    }"
   ]
  },
  {
   "cell_type": "code",
   "execution_count": 63,
   "metadata": {},
   "outputs": [
    {
     "data": {
      "text/plain": [
       "Text(0.5, 1.0, 'Accuracy')"
      ]
     },
     "execution_count": 63,
     "metadata": {},
     "output_type": "execute_result"
    },
    {
     "data": {
      "image/png": "[encoded data removed]",
      "text/plain": [
       "<Figure size 432x288 with 1 Axes>"
      ]
     },
     "metadata": {},
     "output_type": "display_data"
    },
    {
     "data": {
      "image/png": "[encoded data removed]",
      "text/plain": [
       "<Figure size 432x288 with 1 Axes>"
      ]
     },
     "metadata": {},
     "output_type": "display_data"
    }
   ],
   "source": [
    "losses=[]\n",
    "accuracies = []\n",
    "accuracies_sk = []\n",
    "bs_ = []\n",
    "for bs, data in models_1.items():\n",
    "    accuracies.append(data[\"accuracy\"])\n",
    "    accuracies_sk.append(data['sklearn_accuracy'])\n",
    "    losses.append(np.mean(data[\"loss\"][:-10]))\n",
    "    bs_.append(str(bs))\n",
    "\n",
    "plt.figure()\n",
    "plt.scatter(bs_, losses)\n",
    "plt.title(\"loss\")\n",
    "\n",
    "plt.figure()\n",
    "plt.scatter(bs_, accuracies, label=\"custom\")\n",
    "plt.scatter(bs_, accuracies_sk, label=\"sklearn\")\n",
    "plt.legend()\n",
    "plt.title(\"Accuracy\")"
   ]
  },
  {
   "cell_type": "markdown",
   "metadata": {},
   "source": [
    "The best batch size is 256"
   ]
  },
  {
   "cell_type": "markdown",
   "metadata": {},
   "source": [
    "## Gamma impact"
   ]
  },
  {
   "cell_type": "code",
   "execution_count": 55,
   "metadata": {},
   "outputs": [
    {
     "name": "stderr",
     "output_type": "stream",
     "text": [
      "100%|██████████| 100/100 [00:14<00:00,  6.85it/s, loss=0.47]\n"
     ]
    },
    {
     "name": "stdout",
     "output_type": "stream",
     "text": [
      "Best threshold: 0.0 for gamma: 1e-06\n",
      "Accuracy (sklearn): 44.68% for gamma: 1e-06\n",
      "Accuracy: 3.25% for gamma: 1e-06\n",
      "F1-score: 0.6666666666666666\n"
     ]
    },
    {
     "name": "stderr",
     "output_type": "stream",
     "text": [
      "100%|██████████| 100/100 [00:13<00:00,  7.22it/s, loss=0.139]\n"
     ]
    },
    {
     "name": "stdout",
     "output_type": "stream",
     "text": [
      "Best threshold: 0.03 for gamma: 0.001\n",
      "Accuracy (sklearn): 3.25% for gamma: 0.001\n",
      "Accuracy: 13.00% for gamma: 0.001\n",
      "F1-score: 0.6814603226483107\n"
     ]
    },
    {
     "name": "stderr",
     "output_type": "stream",
     "text": [
      "100%|██████████| 100/100 [00:13<00:00,  7.24it/s, loss=0.132]\n"
     ]
    },
    {
     "name": "stdout",
     "output_type": "stream",
     "text": [
      "Best threshold: 0.05 for gamma: 0.1\n",
      "Accuracy (sklearn): 13.00% for gamma: 0.1\n",
      "Accuracy: 51.02% for gamma: 0.1\n",
      "F1-score: 0.6903340129859724\n"
     ]
    },
    {
     "name": "stderr",
     "output_type": "stream",
     "text": [
      "100%|██████████| 100/100 [00:13<00:00,  7.25it/s, loss=0.126]\n"
     ]
    },
    {
     "name": "stdout",
     "output_type": "stream",
     "text": [
      "Best threshold: 0.03 for gamma: 0.5\n",
      "Accuracy (sklearn): 51.02% for gamma: 0.5\n",
      "Accuracy: 32.03% for gamma: 0.5\n",
      "F1-score: 0.6993382741355814\n"
     ]
    },
    {
     "name": "stderr",
     "output_type": "stream",
     "text": [
      "100%|██████████| 100/100 [00:14<00:00,  7.13it/s, loss=0.129]\n"
     ]
    },
    {
     "name": "stdout",
     "output_type": "stream",
     "text": [
      "Best threshold: 0.04 for gamma: 0.9\n",
      "Accuracy (sklearn): 32.03% for gamma: 0.9\n",
      "Accuracy: 45.12% for gamma: 0.9\n",
      "F1-score: 0.682747207874546\n"
     ]
    },
    {
     "name": "stderr",
     "output_type": "stream",
     "text": [
      "100%|██████████| 100/100 [00:14<00:00,  7.09it/s, loss=0.126]\n"
     ]
    },
    {
     "name": "stdout",
     "output_type": "stream",
     "text": [
      "Best threshold: 0.03 for gamma: 0.99\n",
      "Accuracy (sklearn): 45.12% for gamma: 0.99\n",
      "Accuracy: 39.04% for gamma: 0.99\n",
      "F1-score: 0.6956812434510511\n"
     ]
    },
    {
     "name": "stderr",
     "output_type": "stream",
     "text": [
      "100%|██████████| 100/100 [00:14<00:00,  7.14it/s, loss=0.126]\n"
     ]
    },
    {
     "name": "stdout",
     "output_type": "stream",
     "text": [
      "Best threshold: 0.03 for gamma: 0.999\n",
      "Accuracy (sklearn): 39.04% for gamma: 0.999\n",
      "Accuracy: 32.64% for gamma: 0.999\n",
      "F1-score: 0.7001102182589425\n"
     ]
    }
   ],
   "source": [
    "models_2 = {}\n",
    "for gamma in [0.000001,0.001,0.1,0.5,0.9,0.99,0.999]:\n",
    "    model = StochasticLogisticRegression(2, 0.001, 512, gamma=gamma)\n",
    "    model.fit(X_train, y_train, max_iter=100, minibatch=True)\n",
    "    # Make predictions on the test set\n",
    "    y_pred = model.predict(X_test)\n",
    "\n",
    "    best_th,_=model.find_thresh(X_test,y_test)\n",
    "    print(f\"Best threshold: {best_th} for gamma: {gamma}\")\n",
    "\n",
    "    accuracy = accuracy_score(y_test, y_pred)\n",
    "    print(f\"Accuracy (sklearn): {a[0]:.2%} for gamma: {gamma}\")\n",
    "\n",
    "    a = model.accuracy_evaluation(X_test, y_test,best_th )\n",
    "    print(f\"Accuracy: {a[0]:.2%} for gamma: {gamma}\")\n",
    "    print(f\"F1-score: {a[-1]}\")\n",
    "\n",
    "    models_2[str(gamma)]= {\n",
    "        \"accuracy\":a[0],\n",
    "        \"sklearn_accuracy\": accuracy,\n",
    "        \"loss\": model.f_history_,\n",
    "        \"f1\": a[-1]\n",
    "    }"
   ]
  },
  {
   "cell_type": "code",
   "execution_count": 60,
   "metadata": {},
   "outputs": [
    {
     "data": {
      "text/plain": [
       "Text(0.5, 1.0, 'F1-score')"
      ]
     },
     "execution_count": 60,
     "metadata": {},
     "output_type": "execute_result"
    },
    {
     "data": {
      "image/png": "[encoded data removed]",
      "text/plain": [
       "<Figure size 432x288 with 1 Axes>"
      ]
     },
     "metadata": {},
     "output_type": "display_data"
    },
    {
     "data": {
      "image/png": "[encoded data removed]",
      "text/plain": [
       "<Figure size 432x288 with 1 Axes>"
      ]
     },
     "metadata": {},
     "output_type": "display_data"
    }
   ],
   "source": [
    "losses=[]\n",
    "f1 = []\n",
    "bs_ = []\n",
    "for bs, data in models_2.items():\n",
    "    f1.append(data[\"f1\"])\n",
    "    losses.append(np.mean(data[\"loss\"][:-10]))\n",
    "    bs_.append(str(bs))\n",
    "\n",
    "plt.figure()\n",
    "plt.scatter(bs_, losses)\n",
    "plt.title(\"loss\")\n",
    "\n",
    "plt.figure()\n",
    "plt.scatter(bs_, f1)\n",
    "plt.title(\"F1-score\")"
   ]
  },
  {
   "cell_type": "markdown",
   "metadata": {},
   "source": [
    "The best gamma is 0.999"
   ]
  },
  {
   "cell_type": "markdown",
   "metadata": {},
   "source": [
    "## Beta impact\n",
    "Nous allons comparer les paramètres beta pour gamma = 0.999 et batch_size=1024"
   ]
  },
  {
   "cell_type": "code",
   "execution_count": 61,
   "metadata": {},
   "outputs": [
    {
     "name": "stderr",
     "output_type": "stream",
     "text": [
      "100%|██████████| 100/100 [00:21<00:00,  4.57it/s, loss=0.129]\n"
     ]
    },
    {
     "name": "stdout",
     "output_type": "stream",
     "text": [
      "Best threshold: 0.03 for beta: 1e-06\n",
      "Accuracy (sklearn): 26.05% for beta: 1e-06\n",
      "Accuracy: 9.64% for beta: 1e-06\n",
      "F1-score: 0.6716572861683823\n"
     ]
    },
    {
     "name": "stderr",
     "output_type": "stream",
     "text": [
      "100%|██████████| 100/100 [00:21<00:00,  4.55it/s, loss=0.128]\n"
     ]
    },
    {
     "name": "stdout",
     "output_type": "stream",
     "text": [
      "Best threshold: 0.03 for beta: 0.001\n",
      "Accuracy (sklearn): 9.64% for beta: 0.001\n",
      "Accuracy: 20.92% for beta: 0.001\n",
      "F1-score: 0.6841024633986961\n"
     ]
    },
    {
     "name": "stderr",
     "output_type": "stream",
     "text": [
      "100%|██████████| 100/100 [00:21<00:00,  4.55it/s, loss=0.127]\n"
     ]
    },
    {
     "name": "stdout",
     "output_type": "stream",
     "text": [
      "Best threshold: 0.03 for beta: 0.1\n",
      "Accuracy (sklearn): 20.92% for beta: 0.1\n",
      "Accuracy: 38.99% for beta: 0.1\n",
      "F1-score: 0.682886535533115\n"
     ]
    },
    {
     "name": "stderr",
     "output_type": "stream",
     "text": [
      "100%|██████████| 100/100 [00:22<00:00,  4.53it/s, loss=0.128]\n"
     ]
    },
    {
     "name": "stdout",
     "output_type": "stream",
     "text": [
      "Best threshold: 0.03 for beta: 0.5\n",
      "Accuracy (sklearn): 38.99% for beta: 0.5\n",
      "Accuracy: 16.08% for beta: 0.5\n",
      "F1-score: 0.6831271577972602\n"
     ]
    },
    {
     "name": "stderr",
     "output_type": "stream",
     "text": [
      "100%|██████████| 100/100 [00:22<00:00,  4.51it/s, loss=0.128]\n"
     ]
    },
    {
     "name": "stdout",
     "output_type": "stream",
     "text": [
      "Best threshold: 0.03 for beta: 0.9\n",
      "Accuracy (sklearn): 16.08% for beta: 0.9\n",
      "Accuracy: 13.50% for beta: 0.9\n",
      "F1-score: 0.6776194352029368\n"
     ]
    },
    {
     "name": "stderr",
     "output_type": "stream",
     "text": [
      "100%|██████████| 100/100 [00:21<00:00,  4.64it/s, loss=0.127]\n"
     ]
    },
    {
     "name": "stdout",
     "output_type": "stream",
     "text": [
      "Best threshold: 0.03 for beta: 0.99\n",
      "Accuracy (sklearn): 13.50% for beta: 0.99\n",
      "Accuracy: 30.90% for beta: 0.99\n",
      "F1-score: 0.6907144274204702\n"
     ]
    },
    {
     "name": "stderr",
     "output_type": "stream",
     "text": [
      "100%|██████████| 100/100 [00:23<00:00,  4.32it/s, loss=0.13]\n"
     ]
    },
    {
     "name": "stdout",
     "output_type": "stream",
     "text": [
      "Best threshold: 0.01 for beta: 0.999\n",
      "Accuracy (sklearn): 30.90% for beta: 0.999\n",
      "Accuracy: 25.89% for beta: 0.999\n",
      "F1-score: 0.6772875264816733\n"
     ]
    }
   ],
   "source": [
    "models_3 = {}\n",
    "for beta in [0.000001,0.001,0.1,0.5,0.9,0.99,0.999]:\n",
    "    model = StochasticLogisticRegression(2, 0.001, 1024, beta=beta)\n",
    "    model.fit(X_train, y_train, max_iter=100, minibatch=True)\n",
    "    # Make predictions on the test set\n",
    "    y_pred = model.predict(X_test)\n",
    "\n",
    "    best_th,_=model.find_thresh(X_test,y_test)\n",
    "    print(f\"Best threshold: {best_th} for beta: {beta}\")\n",
    "\n",
    "    accuracy = accuracy_score(y_test, y_pred)\n",
    "    print(f\"Accuracy (sklearn): {a[0]:.2%} for beta: {beta}\")\n",
    "\n",
    "    a = model.accuracy_evaluation(X_test, y_test,best_th )\n",
    "    print(f\"Accuracy: {a[0]:.2%} for beta: {beta}\")\n",
    "    print(f\"F1-score: {a[-1]}\")\n",
    "\n",
    "    models_3[str(beta)]= {\n",
    "        \"accuracy\":a[0],\n",
    "        \"sklearn_accuracy\": accuracy,\n",
    "        \"loss\": model.f_history_,\n",
    "        \"f1\": a[-1]\n",
    "    }"
   ]
  },
  {
   "cell_type": "code",
   "execution_count": 62,
   "metadata": {},
   "outputs": [
    {
     "data": {
      "text/plain": [
       "Text(0.5, 1.0, 'F1-score')"
      ]
     },
     "execution_count": 62,
     "metadata": {},
     "output_type": "execute_result"
    },
    {
     "data": {
      "image/png": "[encoded data removed]",
      "text/plain": [
       "<Figure size 432x288 with 1 Axes>"
      ]
     },
     "metadata": {},
     "output_type": "display_data"
    },
    {
     "data": {
      "image/png": "[encoded data removed]",
      "text/plain": [
       "<Figure size 432x288 with 1 Axes>"
      ]
     },
     "metadata": {},
     "output_type": "display_data"
    }
   ],
   "source": [
    "losses=[]\n",
    "f1 = []\n",
    "bs_ = []\n",
    "for bs, data in models_3.items():\n",
    "    f1.append(data[\"f1\"])\n",
    "    losses.append(np.mean(data[\"loss\"][:-10]))\n",
    "    bs_.append(str(bs))\n",
    "\n",
    "plt.figure()\n",
    "plt.scatter(bs_, losses)\n",
    "plt.title(\"loss\")\n",
    "\n",
    "plt.figure()\n",
    "plt.scatter(bs_, f1)\n",
    "plt.title(\"F1-score\")"
   ]
  },
  {
   "cell_type": "markdown",
   "metadata": {},
   "source": [
    "The best beta is 0.9"
   ]
  }
 ],
 "metadata": {
  "anaconda-cloud": {},
  "kernelspec": {
   "display_name": "dl_env",
   "language": "python",
   "name": "python3"
  },
  "language_info": {
   "codemirror_mode": {
    "name": "ipython",
    "version": 3
   },
   "file_extension": ".py",
   "mimetype": "text/x-python",
   "name": "python",
   "nbconvert_exporter": "python",
   "pygments_lexer": "ipython3",
   "version": "3.10.14"
  }
 },
 "nbformat": 4,
 "nbformat_minor": 2
}
