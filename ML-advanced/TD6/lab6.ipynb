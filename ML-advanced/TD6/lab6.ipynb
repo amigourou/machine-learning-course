{
 "cells": [
  {
   "cell_type": "markdown",
   "metadata": {},
   "source": [
    "# Lab 6: Graphical Models"
   ]
  },
  {
   "cell_type": "markdown",
   "metadata": {},
   "source": [
    "Welcome to the advanced Machine Learning Course.\n",
    "\n",
    "The objective of this lab session is to code a few regression algorithms and to apply them to synthetic and real datasets.\n",
    "\n",
    "Please put **\"ML - MDS - TD6\"** in the mail subject or I might lose your work (which means 0) and send it to pierre.houdouin@centralesupelec.fr\n",
    "\n",
    "Please label your notebook **\"L6_familyname1_familyname2.ipynb\"** or I might lose your work (which means 0).\n",
    "\n",
    "We begin with the standard imports:"
   ]
  },
  {
   "cell_type": "code",
   "execution_count": 1,
   "metadata": {},
   "outputs": [],
   "source": [
    "import numpy as np\n",
    "import matplotlib.pyplot as plt\n",
    "import seaborn as sns\n",
    "%matplotlib inline\n",
    "sns.set_context('poster')\n",
    "sns.set_color_codes()\n",
    "plot_kwds = {'alpha' : 0.25, 's' : 80, 'linewidths':0}\n",
    "from tqdm import tqdm\n",
    "import networkx as nx\n",
    "import scipy"
   ]
  },
  {
   "cell_type": "code",
   "execution_count": null,
   "metadata": {},
   "outputs": [],
   "source": [
    "class my_GLasso():\n",
    "    \n",
    "    def __init__(self, lambd=0.01, nu=0.01, max_iter = 60):\n",
    "        '''\n",
    "        Parameters:\n",
    "        lambd : float\n",
    "            Penalization parameter selected.\n",
    "        nu: float>0\n",
    "\n",
    "        Attributes:\n",
    "        \n",
    "        covariance_ : numpy.ndarray, shape (n_features, n_features)\n",
    "            Estimated covariance matrix.\n",
    "        precision_ : numpy.ndarray, shape (n_features, n_features)\n",
    "            Estimated precision matrix (inverse covariance).\n",
    "        '''\n",
    "        self.mean = None\n",
    "        self.covariance_ = None\n",
    "        self.precision_ = None\n",
    "        self.lambd = lambd\n",
    "        self.nu = nu\n",
    "        self.max_iter = max_iter\n",
    "    def set_mean(self,X):\n",
    "        self.mean = np.mean(X, axis=0)\n",
    "    def set_covariance(self, X):\n",
    "        n,p = X.shape\n",
    "        self.covariance =(1/n) * (X - self.mean).T @ (X - self.mean)\n",
    "        \n",
    "    \n",
    "    def set_precision(self):\n",
    "        return\n",
    "    \n",
    "    def fit(self, X):\n",
    "        \"\"\" Fits the GraphicalLasso model to X.\n",
    "        \n",
    "        Parameters:\n",
    "        -----------\n",
    "        X: (n, p) np.array\n",
    "            Data matrix\n",
    "        \n",
    "        Returns:\n",
    "        -----\n",
    "        self\n",
    "        \"\"\"         \n",
    "        # TODO"
   ]
  },
  {
   "cell_type": "code",
   "execution_count": null,
   "metadata": {},
   "outputs": [],
   "source": [
    "# TODO : Compare methods of estimating the covariance matrix in low-sample regime\n",
    "n_samples = 60\n",
    "n_features = 20\n",
    "\n",
    "# Simulate data (multivariate gaussian)\n",
    "from sklearn.datasets import make_sparse_spd_matrix\n",
    "rng = np.random.RandomState(1)\n",
    "prec = make_sparse_spd_matrix(n_features, alpha=.98, smallest_coef=.4, largest_coef=.7, random_state=rng)\n",
    "cov = np.linalg.inv(prec)\n",
    "mean = np.zeros(n_features)\n",
    "data = np.random.multivariate_normal(mean, cov, n_samples)\n",
    "err = np.linalg.norm(prec - prec)\n",
    "\n",
    "prec_empirical = np.linalg.inv(np.dot(data.T, data) / n_samples)\n",
    "err_empirical = np.linalg.norm(prec - prec_empirical)\n",
    "\n",
    "# Scikit-learn Graphical Lasso with cross validation \n",
    "\n",
    "# Graphical Lasso estimation using our implementation\n",
    "\n",
    "# Visual comparison\n",
    "titles = [\"True\", \"Empirical\", \"GLASSO (us)\", \"GLASSO crossval\"]\n",
    "imgs = [prec, prec_empirical, prec_glasso, prec_glassocv]\n",
    "errors = [err, err_empirical, err_glasso, err_glassocv]\n",
    "\n",
    "ncols = len(titles)\n",
    "fig, axes = plt.subplots(1, ncols, figsize=(15, 5))\n",
    "for idx, ax in enumerate(axes.flatten()):\n",
    "    img = imgs[idx]\n",
    "    error = np.around(errors[idx], decimals=2)\n",
    "    title = titles[idx] + f'\\n error {error}'\n",
    "    ax.imshow(img, vmin=-vmax, vmax=vmax, interpolation='nearest', cmap=plt.cm.RdBu_r)\n",
    "    ax.set_title(title)\n",
    "fig.tight_layout()"
   ]
  },
  {
   "cell_type": "markdown",
   "metadata": {},
   "source": [
    "### Nodewise Regression\n",
    "\n",
    "Fill in the following class that implements the nodewise regression algorithm to estimate a graphical model structure. You can use `LassoCV` for the regressions. Bonus (not graded): Implement your own cross-validation lasso."
   ]
  },
  {
   "cell_type": "code",
   "execution_count": 13,
   "metadata": {},
   "outputs": [],
   "source": [
    "from sklearn.linear_model import LassoCV\n",
    "\n",
    "class my_nodewise_regression():\n",
    "    \n",
    "    def __init__(self, rule='AND', eps=1e-8):\n",
    "        '''\n",
    "        Parameters:\n",
    "        \n",
    "        rule: {\"OR\", \"AND\"}\n",
    "        \n",
    "        Attributes:\n",
    "        \n",
    "        graph_structure_ : numpy.ndarray, shape (n_features, n_features)\n",
    "            Estimated adjacancy matrix.        \n",
    "        '''\n",
    "        self.graph_structure_ = None\n",
    "        self.rule = rule\n",
    "        self.eps = eps\n",
    "        \n",
    "    def fit(self, X):\n",
    "        \"\"\" Fit the model to X.\n",
    "        \n",
    "        Parameters:\n",
    "        -----------\n",
    "        X: (n, p) np.array\n",
    "            Data matrix\n",
    "        \n",
    "        Returns:\n",
    "        -----\n",
    "        self\n",
    "        \"\"\"         \n",
    "        #TODO"
   ]
  },
  {
   "cell_type": "code",
   "execution_count": 5,
   "metadata": {},
   "outputs": [],
   "source": [
    "np.random.seed(1)\n",
    "n = 5000\n",
    "p = 6\n",
    "epsilon=1e-1\n",
    "X = np.random.randn(n, p)\n",
    "X.T[1] += X.T[0]\n",
    "X.T[2] += X.T[1]\n",
    "real_graph_structure = np.zeros((p, p))\n",
    "real_graph_structure[0,1] = 1\n",
    "real_graph_structure[1,0] = 1\n",
    "real_graph_structure[1,2] = 1\n",
    "real_graph_structure[2,1] = 1"
   ]
  },
  {
   "cell_type": "code",
   "execution_count": 6,
   "metadata": {},
   "outputs": [
    {
     "data": {
      "image/png": "[encoded data removed]",
      "text/plain": [
       "<Figure size 432x288 with 1 Axes>"
      ]
     },
     "metadata": {},
     "output_type": "display_data"
    }
   ],
   "source": [
    "nx_real = nx.from_numpy_matrix(real_graph_structure.T)\n",
    "nx.draw(nx_real, with_labels=True)\n",
    "\n",
    "#On dessine la structure initiale"
   ]
  },
  {
   "cell_type": "markdown",
   "metadata": {},
   "source": [
    "We notice that the initial graph is **poorly connected**, there are a lot of conditional independances between the components.\n",
    "\n",
    "When we will reconstruct the graph with the predicted value of the precision matrix, **we expect higher values for the conditional correlation between nodes 0, 1 and 2**. \n",
    "\n",
    "However, based on what we saw before, we must expect a complete graph if we dont specify a minimum weight for the edges to be taken into account."
   ]
  },
  {
   "cell_type": "code",
   "execution_count": 5,
   "metadata": {},
   "outputs": [],
   "source": [
    "#TODO : plot the reconstructed graph with GLASSO using different thresholds. Comment the impact of the choice of the threshold"
   ]
  },
  {
   "cell_type": "code",
   "execution_count": 6,
   "metadata": {},
   "outputs": [],
   "source": [
    "#TODO : plot the reconstructed graph with nodewise regression using the rule OR"
   ]
  },
  {
   "cell_type": "code",
   "execution_count": 7,
   "metadata": {},
   "outputs": [],
   "source": [
    "#TODO : plot the reconstructed graph with nodewise regression using the rule OR"
   ]
  },
  {
   "cell_type": "markdown",
   "metadata": {},
   "source": [
    "## Simulations\n",
    "\n",
    "Compare the two graph estimators for each of the following models with $p = 300$ and $n = 40, 80, 320$:\n",
    "\n",
    "- An AR(1)-Block model. In this model the *covariance* matrix is block-diagonal with equalsized AR(1)-blocks of the form $(\\Sigma_{Block})_{i, j} = 0.9^{|i−j|}$, take $30 \\times 30$ blocks.\n",
    "- The exponential decay model considered in Fan et al. [2009]. In this model we consider a case where no element of the concentration matrix is exactly zero. The elements of $\\Theta$ are given by $\\Theta_{ij} = \\exp{(−2|i − j|)}$ equals essentially zero when the difference |i − j| is large.\n",
    "\n",
    "For GLasso estimation, use cross-validation k-fold with loglikelihood loss to select the $\\lambda$ penalization parameter. Evaluate your estimation using the Froebenius matrix norm. \n",
    "\n",
    "For Node-regression estimation, compare your edge-estimation with the binary (thresholded) covariance matrix. Evaluate your estimation using accuracy and the F1 score. "
   ]
  }
 ],
 "metadata": {
  "kernelspec": {
   "display_name": "dl_env",
   "language": "python",
   "name": "python3"
  },
  "language_info": {
   "codemirror_mode": {
    "name": "ipython",
    "version": 3
   },
   "file_extension": ".py",
   "mimetype": "text/x-python",
   "name": "python",
   "nbconvert_exporter": "python",
   "pygments_lexer": "ipython3",
   "version": "3.10.14"
  }
 },
 "nbformat": 4,
 "nbformat_minor": 2
}
