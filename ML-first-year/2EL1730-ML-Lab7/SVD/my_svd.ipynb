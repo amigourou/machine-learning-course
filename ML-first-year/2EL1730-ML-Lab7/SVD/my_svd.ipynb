{
 "cells": [
  {
   "cell_type": "code",
   "execution_count": null,
   "metadata": {},
   "outputs": [],
   "source": [
    "import numpy as np\n",
    "import matplotlib.pyplot as plt\n",
    "import matplotlib.cm as cm"
   ]
  },
  {
   "cell_type": "markdown",
   "metadata": {},
   "source": [
    "Load the dataset"
   ]
  },
  {
   "cell_type": "code",
   "execution_count": null,
   "metadata": {},
   "outputs": [],
   "source": [
    "X = np.loadtxt('gatlin.csv', delimiter=',')\n",
    "print('X is of shape {}'.format(X.shape))\n",
    "print(X)"
   ]
  },
  {
   "cell_type": "markdown",
   "metadata": {},
   "source": [
    "## TODO: Perform SVD on the X matrix\n",
    "Instructions: Perform SVD decomposition of matrix X. \n",
    "## Save the three factors in variables U, S and V"
   ]
  },
  {
   "cell_type": "code",
   "execution_count": null,
   "metadata": {},
   "outputs": [],
   "source": [
    "# YOUR CODE HERE"
   ]
  },
  {
   "cell_type": "code",
   "execution_count": null,
   "metadata": {},
   "outputs": [],
   "source": [
    "# Plot the original image\n",
    "plt.figure(1)\n",
    "plt.imshow(X, cmap=cm.Greys_r)\n",
    "plt.title('Original image (rank 480)')\n",
    "plt.axis('off')\n",
    "plt.draw()"
   ]
  },
  {
   "cell_type": "markdown",
   "metadata": {},
   "source": [
    "Matrix reconstruction using the top k = [10, 20, 50, 100, 200] singular values"
   ]
  },
  {
   "cell_type": "markdown",
   "metadata": {},
   "source": [
    "## TODO: Create four matrices X10, X20, X50, X100, X200 for each low rank approximation"
   ]
  },
  {
   "cell_type": "code",
   "execution_count": null,
   "metadata": {},
   "outputs": [],
   "source": [
    "# YOUR CODE HERE"
   ]
  },
  {
   "cell_type": "markdown",
   "metadata": {},
   "source": [
    "Error of approximation\n",
    "## TODO: Compute and print the error of each low rank approximation of the matrix\n",
    "The Frobenius error can be computed as $\\frac{||X - X_k||}{||X||}$\n"
   ]
  },
  {
   "cell_type": "code",
   "execution_count": null,
   "metadata": {},
   "outputs": [],
   "source": [
    "# YOUR CODE HERE"
   ]
  },
  {
   "cell_type": "code",
   "execution_count": null,
   "metadata": {},
   "outputs": [],
   "source": [
    "fig, axs = plt.subplots(3, 2, figsize=(12, 10))\n",
    "Xs = [X10, X20, X50, X100, X200, X]\n",
    "ranks = ['10', '20', '50', '100', '200', 'full']\n",
    "axs = axs.ravel()\n",
    "\n",
    "for i in range(len(Xs)):\n",
    "    axs[i].imshow(Xs[i], cmap=cm.Greys_r)\n",
    "    axs[i].set_title('Best rank ' + ranks[i] + ' approximation')"
   ]
  },
  {
   "cell_type": "markdown",
   "metadata": {},
   "source": [
    "Plot the singular values of the original matrix\n",
    "## TODO: Plot the singular values of X versus their rank k"
   ]
  },
  {
   "cell_type": "code",
   "execution_count": null,
   "metadata": {},
   "outputs": [],
   "source": [
    "# YOUR CODE HERE"
   ]
  }
 ],
 "metadata": {
  "kernelspec": {
   "display_name": "Python 3 (ipykernel)",
   "language": "python",
   "name": "python3"
  },
  "language_info": {
   "codemirror_mode": {
    "name": "ipython",
    "version": 3
   },
   "file_extension": ".py",
   "mimetype": "text/x-python",
   "name": "python",
   "nbconvert_exporter": "python",
   "pygments_lexer": "ipython3",
   "version": "3.8.10"
  }
 },
 "nbformat": 4,
 "nbformat_minor": 2
}
